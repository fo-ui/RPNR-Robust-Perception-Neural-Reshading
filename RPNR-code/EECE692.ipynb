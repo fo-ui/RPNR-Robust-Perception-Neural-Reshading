{
  "cells": [
    {
      "cell_type": "code",
      "execution_count": 1,
      "metadata": {
        "colab": {
          "base_uri": "https://localhost:8080/"
        },
        "id": "XQkkmpw3MyBd",
        "outputId": "15cd6272-3296-4324-c689-714ddae0835b"
      },
      "outputs": [
        {
          "name": "stdout",
          "output_type": "stream",
          "text": [
            "Mounted at /content/drive\n"
          ]
        }
      ],
      "source": [
        "from google.colab import drive\n",
        "drive.mount(\"/content/drive\", force_remount=True)"
      ]
    },
    {
      "cell_type": "code",
      "execution_count": 4,
      "metadata": {
        "colab": {
          "base_uri": "https://localhost:8080/"
        },
        "id": "gubQnpm-M8P0",
        "outputId": "bba005ce-2ac7-487c-d747-845cc5a9d18e"
      },
      "outputs": [
        {
          "name": "stdout",
          "output_type": "stream",
          "text": [
            "1335\n",
            "1335\n",
            "225\n",
            "225\n"
          ]
        }
      ],
      "source": [
        "import os\n",
        "\n",
        "#load paths and labels for train and test datasets\n",
        "path = \"/content/drive/MyDrive/scenes/\"\n",
        "folders = os.listdir(path)\n",
        "image_path1 = []\n",
        "labels1 = []\n",
        "for i in folders:\n",
        "    sub_path = path +i +\"/\"\n",
        "    sub_folders = os.listdir(sub_path)\n",
        "    for j in sub_folders:\n",
        "        if j[0] == 'P':\n",
        "            images_folder = os.listdir(sub_path+j)\n",
        "            for k in images_folder:\n",
        "                image_path1.append(sub_path+j+'/'+k)\n",
        "                labels1.append(int(j[11:]))\n",
        "\n",
        "print(len(image_path1))\n",
        "print(len(labels1))\n",
        "\n",
        "\n",
        "\n",
        "path2 = \"/content/drive/MyDrive/scenes/test_set/\"\n",
        "folders2 = os.listdir(path2)\n",
        "image_path2 = []\n",
        "labels2 = []\n",
        "for j in folders2:\n",
        "    if j[0] == 'P':\n",
        "        images_folder = os.listdir(path2+j)\n",
        "        for k in images_folder:\n",
        "            image_path2.append(path2+j+'/'+k)\n",
        "            labels2.append(int(j[11:]))\n",
        "\n",
        "print(len(image_path2))\n",
        "print(len(labels2))"
      ]
    },
    {
      "cell_type": "code",
      "execution_count": 1,
      "metadata": {
        "colab": {
          "base_uri": "https://localhost:8080/"
        },
        "id": "hEBDHM_4Nu5j",
        "outputId": "072344f5-f699-4627-ddfc-bc7509b08928"
      },
      "outputs": [
        {
          "name": "stdout",
          "output_type": "stream",
          "text": [
            "PyTorch Version:  1.10.0\n",
            "Torchvision Version:  0.11.1\n"
          ]
        }
      ],
      "source": [
        "from __future__ import print_function \n",
        "from __future__ import division\n",
        "import torch\n",
        "import torch.nn as nn\n",
        "import torch.nn.functional as F\n",
        "import torch.optim as optim\n",
        "import numpy as np\n",
        "import torchvision\n",
        "from torchvision import datasets, models, transforms\n",
        "import matplotlib.pyplot as plt\n",
        "import time\n",
        "import os\n",
        "import copy\n",
        "print(\"PyTorch Version: \",torch.__version__)\n",
        "print(\"Torchvision Version: \",torchvision.__version__)"
      ]
    },
    {
      "cell_type": "code",
      "execution_count": 4,
      "metadata": {
        "id": "XmH6MYt5RW_r"
      },
      "outputs": [],
      "source": [
        "#initialize the variables\n",
        "data_dir = \"/content/drive/MyDrive/scenes\"\n",
        "num_classes = 15\n",
        "batch_size = 15\n",
        "num_epochs = 18\n",
        "feature_extract = False"
      ]
    },
    {
      "cell_type": "code",
      "execution_count": 7,
      "metadata": {
        "id": "UQdJDX4yR6m0"
      },
      "outputs": [],
      "source": [
        "#train function\n",
        "def train_model(model, dataloaders, criterion1, criterion2, optimizer, num_epochs):\n",
        "    since = time.time()\n",
        "    val_acc_history = []\n",
        "    best_model_wts = copy.deepcopy(model.state_dict())\n",
        "    best_acc = 0.0\n",
        "\n",
        "    for epoch in range(num_epochs):\n",
        "        print('Epoch {}/{}'.format(epoch, num_epochs - 1))\n",
        "        print('-' * 10)\n",
        "\n",
        "        # Each epoch has a training and validation phase\n",
        "        for phase in ['train', 'val']:\n",
        "            if phase == 'train':\n",
        "                model.train()\n",
        "            else:\n",
        "                model.eval()\n",
        "\n",
        "            running_loss = 0.0\n",
        "            running_corrects = 0\n",
        "\n",
        "            # Iterate over data.\n",
        "            for inputs, labels in dataloaders[phase]:\n",
        "                inputs = inputs.to(device)\n",
        "                labels = labels.to(device)\n",
        "\n",
        "                # zero the parameter gradients\n",
        "                optimizer.zero_grad()\n",
        "\n",
        "                # forward\n",
        "                # track history if only in train\n",
        "                with torch.set_grad_enabled(phase == 'train'):\n",
        "                  #outputs = model(inputs)\n",
        "                  outputs, layer1, layer2 = model.forward(inputs)\n",
        "                  v1 = torch.subtract(layer1,torch.mean(layer1))\n",
        "                  v2 = torch.subtract(layer2,torch.mean(layer2))\n",
        "                  loss0 = criterion1(outputs, labels)\n",
        "                  loss1 = criterion2(layer1, v1)\n",
        "                  loss2 = criterion2(layer2, v2)\n",
        "                  loss = 0.5*loss0 + 0.25*loss1 + 0.25*loss2\n",
        "\n",
        "                  _, preds = torch.max(outputs, 1)\n",
        "\n",
        "                  # backward + optimize only if in training phase\n",
        "                  if phase == 'train':\n",
        "                    loss.backward()\n",
        "                    optimizer.step()\n",
        "\n",
        "                # statistics\n",
        "                running_loss += loss.item() * inputs.size(0)\n",
        "                running_corrects += torch.sum(preds == labels.data)\n",
        "\n",
        "            epoch_loss = running_loss / len(dataloaders[phase].dataset)\n",
        "            epoch_acc = running_corrects.double() / len(dataloaders[phase].dataset)\n",
        "\n",
        "            print('{} Loss: {:.4f} Acc: {:.4f}'.format(phase, epoch_loss, epoch_acc))\n",
        "\n",
        "            # deep copy the model\n",
        "            if phase == 'val' and epoch_acc > best_acc:\n",
        "                best_acc = epoch_acc\n",
        "                best_model_wts = copy.deepcopy(model.state_dict())\n",
        "            if phase == 'val':\n",
        "                val_acc_history.append(epoch_acc)\n",
        "\n",
        "        print()\n",
        "\n",
        "    time_elapsed = time.time() - since\n",
        "    print('Training complete in {:.0f}m {:.0f}s'.format(time_elapsed // 60, time_elapsed % 60))\n",
        "    print('Best val Acc: {:4f}'.format(best_acc))\n",
        "\n",
        "    # load best model weights\n",
        "    model.load_state_dict(best_model_wts)\n",
        "    return model, val_acc_history"
      ]
    },
    {
      "cell_type": "code",
      "execution_count": 8,
      "metadata": {
        "id": "p7KJz5s3bcC2"
      },
      "outputs": [],
      "source": [
        "def set_parameter_requires_grad(model, feature_extracting):\n",
        "    if feature_extracting:\n",
        "        for param in model.parameters():\n",
        "            param.requires_grad = False"
      ]
    },
    {
      "cell_type": "code",
      "execution_count": 9,
      "metadata": {
        "colab": {
          "base_uri": "https://localhost:8080/"
        },
        "id": "E34zqWPBcl0P",
        "outputId": "5cab92b5-3d50-47e3-9db5-5efa67246c75"
      },
      "outputs": [
        {
          "name": "stdout",
          "output_type": "stream",
          "text": [
            "AlexNet(\n",
            "  (orig): Sequential(\n",
            "    (0): Sequential(\n",
            "      (0): Conv2d(3, 64, kernel_size=(11, 11), stride=(4, 4), padding=(2, 2))\n",
            "      (1): ReLU(inplace=True)\n",
            "      (2): MaxPool2d(kernel_size=3, stride=2, padding=0, dilation=1, ceil_mode=False)\n",
            "      (3): Conv2d(64, 192, kernel_size=(5, 5), stride=(1, 1), padding=(2, 2))\n",
            "      (4): ReLU(inplace=True)\n",
            "      (5): MaxPool2d(kernel_size=3, stride=2, padding=0, dilation=1, ceil_mode=False)\n",
            "      (6): Conv2d(192, 384, kernel_size=(3, 3), stride=(1, 1), padding=(1, 1))\n",
            "      (7): ReLU(inplace=True)\n",
            "      (8): Conv2d(384, 256, kernel_size=(3, 3), stride=(1, 1), padding=(1, 1))\n",
            "      (9): ReLU(inplace=True)\n",
            "      (10): Conv2d(256, 256, kernel_size=(3, 3), stride=(1, 1), padding=(1, 1))\n",
            "      (11): ReLU(inplace=True)\n",
            "      (12): MaxPool2d(kernel_size=3, stride=2, padding=0, dilation=1, ceil_mode=False)\n",
            "    )\n",
            "    (1): AdaptiveAvgPool2d(output_size=(6, 6))\n",
            "  )\n",
            "  (c1): Linear(in_features=9216, out_features=4096, bias=True)\n",
            "  (c2): ReLU(inplace=True)\n",
            "  (c3): Dropout(p=0.5, inplace=False)\n",
            "  (c4): Linear(in_features=4096, out_features=4096, bias=True)\n",
            "  (c5): ReLU(inplace=True)\n",
            "  (c6): Dropout(p=0.5, inplace=False)\n",
            "  (c7): Linear(in_features=4096, out_features=15, bias=True)\n",
            ")\n"
          ]
        }
      ],
      "source": [
        "device = torch.device(\"cuda:0\" if torch.cuda.is_available() else \"cpu\")\n",
        "\n",
        "class ResNet18(nn.Module):\n",
        "    def __init__(self, orig_model):\n",
        "        super(ResNet18, self).__init__()\n",
        "        self.orig = nn.Sequential(*(list(orig_model.children())[:-1])).to(device)\n",
        "        for param in self.orig.parameters():\n",
        "            param.requires_grad = True\n",
        "            # Replace the last fully-connected layer\n",
        "            # Parameters of newly constructed modules have requires_grad=True by default\n",
        "        self.fc = nn.Linear(512, 256).to(device)\n",
        "        self.fc2 = nn.Linear(256, 128).to(device)\n",
        "        self.fc3 = nn.Linear(128, 15).to(device)\n",
        "        #self.fc4 = nn.Linear(64, 15).to(device)\n",
        "        #self.fc5 = nn.Linear(32, 15).to(device)\n",
        "\n",
        "    def forward(self, x):\n",
        "        x = self.orig(x)\n",
        "        x = self.bn(x)\n",
        "        x = x.view(x.size(0), -1)\n",
        "        x1 = F.relu(self.bn2(self.fc(x)))\n",
        "        x = self.drop(x1)\n",
        "        x2 = F.relu(self.bn3(self.fc2(x)))\n",
        "        x = self.drop(x2)\n",
        "        #x3 = F.relu(self.bn4(self.fc3(x)))\n",
        "        #x = self.drop(x3)\n",
        "        #x4 = F.relu(self.bn5(self.fc4(x)))\n",
        "        #x = self.drop(x4)\n",
        "        x = F.relu(self.fc3(x))\n",
        "        p = F.softmax(x, dim=1)\n",
        "        return x, p, x1, x2\n",
        "\n",
        "\n",
        "class AlexNet(nn.Module):\n",
        "\n",
        "    def __init__(self, orig_model):\n",
        "        \n",
        "        super(AlexNet, self).__init__()\n",
        "        #self.b0 = nn.BatchNorm2d(6400).to(device)\n",
        "        #self.b1 = nn.BatchNorm2d(4096)\n",
        "        #self.b2 = nn.BatchNorm2d(4096)\n",
        "    \n",
        "        self.orig = nn.Sequential(*(list(orig_model.children())[:-1])).to(device)\n",
        "        for param in self.orig.parameters():\n",
        "            param.requires_grad = True\n",
        "        self.c1 = nn.Linear(256 * 6 * 6, 4096) #0\n",
        "        self.c2 =  nn.ReLU(inplace=True)  # 1\n",
        "        self.c3 = nn.Dropout(0.5)  # 2\n",
        "        self.c4 = nn.Linear(4096, 4096)  # 3\n",
        "        self.c5 = nn.ReLU(inplace=True)  # 4\n",
        "        self.c6 = nn.Dropout(0.5)  # 5\n",
        "        self.c7 = nn.Linear(4096, num_classes)  # 6\n",
        "    \n",
        "\n",
        "    def forward(self, x):\n",
        "        x = self.orig(x)\n",
        "        #x = self.b0(x)\n",
        "        x = x.view(x.size(0), 256 * 6 * 6)\n",
        "        x1 = self.c1(x)\n",
        "        x2 = self.c2(x1)\n",
        "        x3 = self.c3(x2)\n",
        "        x4 = self.c4(x3)\n",
        "        x5 = self.c5(x4)\n",
        "        x6 = self.c6(x5)\n",
        "        x = self.c7(x6)\n",
        "        return x, x1, x4\n",
        "\n",
        "\n",
        "\n",
        "\n",
        "input_size = 224\n",
        "\n",
        "# pretrained_model = torchvision.models.resnet18(pretrained=True)\n",
        "model_p = torchvision.models.alexnet(pretrained=True)\n",
        "# model_ft = ResNet18(pretrained_model)\n",
        "model_ft = AlexNet(model_p)\n",
        "input_size = 224\n",
        "\n",
        "# Print the model we just instantiated\n",
        "print(model_ft)"
      ]
    },
    {
      "cell_type": "code",
      "execution_count": 10,
      "metadata": {
        "colab": {
          "base_uri": "https://localhost:8080/"
        },
        "id": "eJ0bjqvldFKX",
        "outputId": "193ea61e-69a8-49d0-8fad-53163d5a21d5"
      },
      "outputs": [
        {
          "name": "stdout",
          "output_type": "stream",
          "text": [
            "Initializing Datasets and Dataloaders...\n"
          ]
        }
      ],
      "source": [
        "#preprocess the data\n",
        "data_transforms = {\n",
        "    'train': transforms.Compose([\n",
        "        transforms.RandomResizedCrop(input_size),\n",
        "        transforms.RandomHorizontalFlip(),\n",
        "        transforms.ToTensor(),\n",
        "        transforms.Normalize([0.485, 0.456, 0.406], [0.229, 0.224, 0.225])\n",
        "    ]),\n",
        "    'val': transforms.Compose([\n",
        "        transforms.Resize(input_size),\n",
        "        transforms.CenterCrop(input_size),\n",
        "        transforms.ToTensor(),\n",
        "        transforms.Normalize([0.485, 0.456, 0.406], [0.229, 0.224, 0.225])\n",
        "    ]),\n",
        "}\n",
        "\n",
        "print(\"Initializing Datasets and Dataloaders...\")\n",
        "\n",
        "# Create training and validation datasets\n",
        "image_datasets = {x: datasets.ImageFolder(os.path.join(data_dir, name),\n",
        "                                          data_transforms[x])\n",
        "                  for x, name in [['train', \"train_set\"], ['val', \"test_set\"]]}\n",
        "\n",
        "\n",
        "dataloaders_dict = {x: torch.utils.data.DataLoader(image_datasets[x], batch_size = 8, shuffle=True)\n",
        "              for x in ['train', 'val']}"
      ]
    },
    {
      "cell_type": "code",
      "execution_count": 6,
      "metadata": {
        "colab": {
          "base_uri": "https://localhost:8080/"
        },
        "id": "iu9tJPkudPNO",
        "outputId": "1b86b4f7-58c3-463b-f5d7-d948baacf57f"
      },
      "outputs": [
        {
          "name": "stdout",
          "output_type": "stream",
          "text": [
            "Params to learn:\n",
            "\t orig.0.0.weight\n",
            "\t orig.0.0.bias\n",
            "\t orig.0.3.weight\n",
            "\t orig.0.3.bias\n",
            "\t orig.0.6.weight\n",
            "\t orig.0.6.bias\n",
            "\t orig.0.8.weight\n",
            "\t orig.0.8.bias\n",
            "\t orig.0.10.weight\n",
            "\t orig.0.10.bias\n",
            "\t c1.weight\n",
            "\t c1.bias\n",
            "\t c4.weight\n",
            "\t c4.bias\n",
            "\t c7.weight\n",
            "\t c7.bias\n"
          ]
        }
      ],
      "source": [
        "# Send the model to GPU\n",
        "model_ft = model_ft.to(device)\n",
        "\n",
        "params_to_update = model_ft.parameters()\n",
        "print(\"Params to learn:\")\n",
        "if feature_extract:\n",
        "    params_to_update = []\n",
        "    for name,param in model_ft.named_parameters():\n",
        "        if param.requires_grad == True:\n",
        "            params_to_update.append(param)\n",
        "            print(\"\\t\",name)\n",
        "else:\n",
        "    for name,param in model_ft.named_parameters():\n",
        "        if param.requires_grad == True:\n",
        "            print(\"\\t\",name)\n",
        "\n",
        "# Observe that all parameters are being optimized\n",
        "optimizer_ft = optim.SGD(params_to_update, lr=0.001, momentum=0.9)"
      ]
    },
    {
      "cell_type": "code",
      "execution_count": 14,
      "metadata": {
        "colab": {
          "base_uri": "https://localhost:8080/",
          "height": 1000
        },
        "id": "qeP5fg2Qd3nm",
        "outputId": "16cb1956-6ee6-46fb-e904-1705c23b3411"
      },
      "outputs": [
        {
          "name": "stdout",
          "output_type": "stream",
          "text": [
            "Epoch 0/17\n",
            "----------\n",
            "train Loss: 0.3870 Acc: 0.8000\n",
            "val Loss: 0.0904 Acc: 1.0000\n",
            "\n",
            "Epoch 1/17\n",
            "----------\n",
            "train Loss: 0.3171 Acc: 0.8207\n",
            "val Loss: 0.0674 Acc: 1.0000\n",
            "\n",
            "Epoch 2/17\n",
            "----------\n",
            "train Loss: 0.2826 Acc: 0.8351\n",
            "val Loss: 0.0581 Acc: 1.0000\n",
            "\n",
            "Epoch 3/17\n",
            "----------\n",
            "train Loss: 0.2378 Acc: 0.8550\n",
            "val Loss: 0.0505 Acc: 1.0000\n",
            "\n",
            "Epoch 4/17\n",
            "----------\n",
            "train Loss: 0.2381 Acc: 0.8577\n",
            "val Loss: 0.0429 Acc: 1.0000\n",
            "\n",
            "Epoch 5/17\n",
            "----------\n",
            "train Loss: 0.2292 Acc: 0.8550\n",
            "val Loss: 0.0383 Acc: 1.0000\n",
            "\n",
            "Epoch 6/17\n",
            "----------\n",
            "train Loss: 0.2103 Acc: 0.8757\n",
            "val Loss: 0.0342 Acc: 1.0000\n",
            "\n",
            "Epoch 7/17\n",
            "----------\n",
            "train Loss: 0.1911 Acc: 0.8928\n",
            "val Loss: 0.0357 Acc: 1.0000\n",
            "\n",
            "Epoch 8/17\n",
            "----------\n",
            "train Loss: 0.1925 Acc: 0.8820\n",
            "val Loss: 0.0269 Acc: 1.0000\n",
            "\n",
            "Epoch 9/17\n",
            "----------\n",
            "train Loss: 0.1719 Acc: 0.9018\n",
            "val Loss: 0.0271 Acc: 1.0000\n",
            "\n",
            "Epoch 10/17\n",
            "----------\n",
            "train Loss: 0.1929 Acc: 0.8784\n",
            "val Loss: 0.0261 Acc: 1.0000\n",
            "\n",
            "Epoch 11/17\n",
            "----------\n",
            "train Loss: 0.1808 Acc: 0.8784\n",
            "val Loss: 0.0262 Acc: 1.0000\n",
            "\n",
            "Epoch 12/17\n",
            "----------\n",
            "train Loss: 0.1770 Acc: 0.8712\n",
            "val Loss: 0.0238 Acc: 1.0000\n",
            "\n",
            "Epoch 13/17\n",
            "----------\n",
            "train Loss: 0.1678 Acc: 0.8901\n",
            "val Loss: 0.0227 Acc: 1.0000\n",
            "\n",
            "Epoch 14/17\n",
            "----------\n",
            "train Loss: 0.1552 Acc: 0.8982\n",
            "val Loss: 0.0201 Acc: 1.0000\n",
            "\n",
            "Epoch 15/17\n",
            "----------\n",
            "train Loss: 0.1604 Acc: 0.8820\n",
            "val Loss: 0.0198 Acc: 1.0000\n",
            "\n",
            "Epoch 16/17\n",
            "----------\n",
            "train Loss: 0.1554 Acc: 0.8937\n",
            "val Loss: 0.0196 Acc: 1.0000\n",
            "\n",
            "Epoch 17/17\n",
            "----------\n",
            "train Loss: 0.1392 Acc: 0.9081\n",
            "val Loss: 0.0181 Acc: 1.0000\n",
            "\n",
            "Training complete in 34m 59s\n",
            "Best val Acc: 1.000000\n"
          ]
        },
        {
          "ename": "AttributeError",
          "evalue": "ignored",
          "output_type": "error",
          "traceback": [
            "\u001b[0;31m---------------------------------------------------------------------------\u001b[0m",
            "\u001b[0;31mAttributeError\u001b[0m                            Traceback (most recent call last)",
            "\u001b[0;32m<ipython-input-14-0e735880bc22>\u001b[0m in \u001b[0;36m<module>\u001b[0;34m()\u001b[0m\n\u001b[1;32m      6\u001b[0m \u001b[0;31m# Train and evaluate\u001b[0m\u001b[0;34m\u001b[0m\u001b[0;34m\u001b[0m\u001b[0;34m\u001b[0m\u001b[0m\n\u001b[1;32m      7\u001b[0m \u001b[0mmodel_ft\u001b[0m\u001b[0;34m,\u001b[0m \u001b[0mhist\u001b[0m \u001b[0;34m=\u001b[0m \u001b[0mtrain_model\u001b[0m\u001b[0;34m(\u001b[0m\u001b[0mmodel_ft\u001b[0m\u001b[0;34m,\u001b[0m \u001b[0mdataloaders_dict\u001b[0m\u001b[0;34m,\u001b[0m \u001b[0mcriterion1\u001b[0m\u001b[0;34m,\u001b[0m \u001b[0mcriterion2\u001b[0m\u001b[0;34m,\u001b[0m \u001b[0moptimizer_ft\u001b[0m\u001b[0;34m,\u001b[0m \u001b[0mnum_epochs\u001b[0m\u001b[0;34m=\u001b[0m\u001b[0mnum_epochs\u001b[0m\u001b[0;34m)\u001b[0m\u001b[0;34m\u001b[0m\u001b[0;34m\u001b[0m\u001b[0m\n\u001b[0;32m----> 8\u001b[0;31m \u001b[0mmodel_ft\u001b[0m\u001b[0;34m.\u001b[0m\u001b[0msave\u001b[0m\u001b[0;34m(\u001b[0m\u001b[0;34m'/content/drive/MyDrive/model_ft.h5'\u001b[0m\u001b[0;34m)\u001b[0m\u001b[0;34m\u001b[0m\u001b[0;34m\u001b[0m\u001b[0m\n\u001b[0m",
            "\u001b[0;32m/usr/local/lib/python3.7/dist-packages/torch/nn/modules/module.py\u001b[0m in \u001b[0;36m__getattr__\u001b[0;34m(self, name)\u001b[0m\n\u001b[1;32m   1176\u001b[0m                 \u001b[0;32mreturn\u001b[0m \u001b[0mmodules\u001b[0m\u001b[0;34m[\u001b[0m\u001b[0mname\u001b[0m\u001b[0;34m]\u001b[0m\u001b[0;34m\u001b[0m\u001b[0;34m\u001b[0m\u001b[0m\n\u001b[1;32m   1177\u001b[0m         raise AttributeError(\"'{}' object has no attribute '{}'\".format(\n\u001b[0;32m-> 1178\u001b[0;31m             type(self).__name__, name))\n\u001b[0m\u001b[1;32m   1179\u001b[0m \u001b[0;34m\u001b[0m\u001b[0m\n\u001b[1;32m   1180\u001b[0m     \u001b[0;32mdef\u001b[0m \u001b[0m__setattr__\u001b[0m\u001b[0;34m(\u001b[0m\u001b[0mself\u001b[0m\u001b[0;34m,\u001b[0m \u001b[0mname\u001b[0m\u001b[0;34m:\u001b[0m \u001b[0mstr\u001b[0m\u001b[0;34m,\u001b[0m \u001b[0mvalue\u001b[0m\u001b[0;34m:\u001b[0m \u001b[0mUnion\u001b[0m\u001b[0;34m[\u001b[0m\u001b[0mTensor\u001b[0m\u001b[0;34m,\u001b[0m \u001b[0;34m'Module'\u001b[0m\u001b[0;34m]\u001b[0m\u001b[0;34m)\u001b[0m \u001b[0;34m->\u001b[0m \u001b[0;32mNone\u001b[0m\u001b[0;34m:\u001b[0m\u001b[0;34m\u001b[0m\u001b[0;34m\u001b[0m\u001b[0m\n",
            "\u001b[0;31mAttributeError\u001b[0m: 'AlexNet' object has no attribute 'save'"
          ]
        }
      ],
      "source": [
        "# Setup the loss fxn\n",
        "criterion1 = nn.CrossEntropyLoss()\n",
        "criterion2 = nn.MSELoss()\n",
        "\n",
        "\n",
        "# Train and evaluate\n",
        "model_ft, hist = train_model(model_ft, dataloaders_dict, criterion1, criterion2, optimizer_ft, num_epochs=num_epochs)\n"
      ]
    },
    {
      "cell_type": "code",
      "execution_count": 17,
      "metadata": {
        "id": "Pz8NsOYCPwXq"
      },
      "outputs": [],
      "source": [
        "torch.save(model_ft.state_dict(), \"/content/drive/MyDrive/saved_model/model\")"
      ]
    }
  ],
  "metadata": {
    "accelerator": "GPU",
    "colab": {
      "collapsed_sections": [],
      "name": "EECE692.ipynb",
      "provenance": []
    },
    "kernelspec": {
      "display_name": "Python 3",
      "name": "python3"
    },
    "language_info": {
      "codemirror_mode": {
        "name": "ipython",
        "version": 3
      },
      "file_extension": ".py",
      "mimetype": "text/x-python",
      "name": "python",
      "nbconvert_exporter": "python",
      "pygments_lexer": "ipython3",
      "version": "3.9.7"
    }
  },
  "nbformat": 4,
  "nbformat_minor": 0
}
